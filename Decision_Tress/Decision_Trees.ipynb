{
 "cells": [
  {
   "cell_type": "heading",
   "metadata": {
    "collapsed": true
   },
   "level": 1,
   "source": [
    "Decision Trees"
   ]
  },
  {
   "cell_type": "markdown",
   "metadata": {},
   "source": [
    "Example 1"
   ]
  },
  {
   "cell_type": "markdown",
   "metadata": {},
   "source": [
    "Use artificially generated data in 4 regions"
   ]
  },
  {
   "cell_type": "code",
   "execution_count": null,
   "metadata": {},
   "outputs": [],
   "source": [
    "sys.path.append('pysrc')\n",
    "import decision_trees as dt\n",
    "import networkx as nx\n",
    "import numpy as np\n",
    "\n",
    "inputs = np.zeros((16, 2))\n",
    "outputs = []\n",
    "row = 0\n",
    "for x in range(4):\n",
    "    for y in range(4):\n",
    "        inputs[row][0] = x\n",
    "        inputs[row][1] = y\n",
    "        row += 1\n",
    "\n",
    "for row in inputs:\n",
    "    if (row[0] > 1 and row[1] < 2) or (row[0] < 2 and row[1] > 1):outputs.append(1)\n",
    "    else: outputs.append(0)\n",
    "            \n",
    "clazz = [0,1]\n",
    "meta = ['x','y']\n",
    "tree = dt.build_tree(inputs, outputs, clazz, meta)\n",
    "dt.draw_tree(tree)\n",
    "data = np.zeros((16,4))\n",
    "for r in range(16):\n",
    "    data[r][0] = r\n",
    "    data[r][1] = inputs[r][0]\n",
    "    data[r][2] = inputs[r][1]\n",
    "    data[r][3] = outputs[r]\n",
    "#print data"
   ]
  },
  {
   "cell_type": "markdown",
   "metadata": {},
   "source": [
    "Example 2"
   ]
  },
  {
   "cell_type": "markdown",
   "metadata": {},
   "source": [
    "Uses data provided from the \"The Elements of Statistical Learning\" website on South African heart disease"
   ]
  },
  {
   "cell_type": "code",
   "execution_count": null,
   "metadata": {},
   "outputs": [],
   "source": [
    "sys.path.append('pysrc')\n",
    "import decision_trees as dt\n",
    "import numpy as np\n",
    "import networkx as nx\n",
    "from matplotlib import pyplot as plt\n",
    "\n",
    "p = 'data/SAheart.data'\n",
    "f = open(p,'r')\n",
    "all_lines = f.readlines()\n",
    "train_cnt = int(0.75 * len(all_lines))\n",
    "lines = all_lines[0:train_cnt]\n",
    "col_cnt = len(lines[0].split(','))\n",
    "row_cnt = len(lines)\n",
    "outputs = [int(line.split(',')[col_cnt-1][0]) for line in lines]\n",
    "inputs = np.zeros((row_cnt, col_cnt-1))\n",
    "for row in range(row_cnt):\n",
    "    line = lines[row].split(',')[0:col_cnt-1]\n",
    "    inputs[row] = [float(v) for v in line] \n",
    "clazz = [0,1]\n",
    "\n",
    "tree = dt.build_tree(inputs, outputs, clazz, meta=['sbp','tob','ldl','adip','famhist','typea','obes','alc','age'], max_rm=5)\n",
    "#dt.draw_tree(tree)\n",
    "\n",
    "#compare the tree precition to training values, since we haven't pruned this should be very accurate\n",
    "diff = []\n",
    "for row in range(train_cnt):\n",
    "    p = dt.decide(tree, inputs[row])\n",
    "    if p == outputs[row]: diff.append(0)\n",
    "    else: diff.append(1)\n",
    "        \n",
    "misses = sum(diff)\n",
    "print \"In the training data, there were {0} miss classifications for {1} inputs, a rate of {2}%\".format(misses, train_cnt, 100*misses/float(train_cnt))\n",
    "x = range(train_cnt)\n",
    "f, axarr = plt.subplots(2,1)\n",
    "f.subplots_adjust(right=1.5)\n",
    "f.subplots_adjust(top=1.5)\n",
    "\n",
    "#plot training comparison\n",
    "ax1 = axarr[0]\n",
    "ax1.scatter(x,diff)\n",
    "\n",
    "#compare the tree prediction to actual values not used in training set\n",
    "test_lines = all_lines[train_cnt+1:len(all_lines)-1]\n",
    "actual_out = [int(line.split(',')[col_cnt-1][0]) for line in test_lines]\n",
    "row_cnt = len(test_lines)\n",
    "test_in = np.zeros((row_cnt, col_cnt-1))\n",
    "for row in range(row_cnt):\n",
    "    line = test_lines[row].split(',')[0:col_cnt-1]\n",
    "    test_in[row] = [float(v) for v in line]\n",
    "\n",
    "diff = []\n",
    "for row in range(len(test_in)):\n",
    "    p = dt.decide(tree, test_in[row])\n",
    "    if p == actual_out[row]: diff.append(0)\n",
    "    else: diff.append(1)\n",
    "misses = sum(diff)        \n",
    "print \"In the hold out data, there were {0} miss classifications for {1} inputs, a rate of {2}%\".format(misses, len(test_in), 100*misses/float(len(test_in)))\n",
    "\n",
    "x = range(len(diff))\n",
    "ax2 = axarr[1]\n",
    "ax2.scatter(x,diff)"
   ]
  }
 ],
 "metadata": {
  "kernelspec": {
   "display_name": "Python 2",
   "language": "python",
   "name": "python2"
  },
  "language_info": {
   "codemirror_mode": {
    "name": "ipython",
    "version": 2
   },
   "file_extension": ".py",
   "mimetype": "text/x-python",
   "name": "python",
   "nbconvert_exporter": "python",
   "pygments_lexer": "ipython2",
   "version": "2.7.6"
  }
 },
 "nbformat": 4,
 "nbformat_minor": 0
}
